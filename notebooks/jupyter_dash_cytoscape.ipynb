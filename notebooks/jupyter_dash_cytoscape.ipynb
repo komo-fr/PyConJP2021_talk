{
 "cells": [
  {
   "cell_type": "code",
   "execution_count": 2,
   "id": "addaa48c",
   "metadata": {},
   "outputs": [
    {
     "data": {
      "text/html": [
       "\n",
       "        <iframe\n",
       "            width=\"100%\"\n",
       "            height=\"650\"\n",
       "            src=\"http://127.0.0.1:8050/\"\n",
       "            frameborder=\"0\"\n",
       "            allowfullscreen\n",
       "        ></iframe>\n",
       "        "
      ],
      "text/plain": [
       "<IPython.lib.display.IFrame at 0x7fbf79c06d00>"
      ]
     },
     "metadata": {},
     "output_type": "display_data"
    }
   ],
   "source": [
    "import dash\n",
    "from jupyter_dash import JupyterDash\n",
    "import dash_cytoscape as cyto\n",
    "import dash_html_components as html\n",
    "\n",
    "# Dashインスタンスの生成\n",
    "app = JupyterDash(__name__)\n",
    "\n",
    "# Cytoscapeコンポーネントの生成\n",
    "cyto_compo = cyto.Cytoscape(\n",
    "    id=\"hello-dash-cyto\",\n",
    "    style={\"width\": \"400px\", \"height\": \"400px\"},\n",
    "    # (1) ネットワークの構成要素の定義\n",
    "    elements=[\n",
    "        # ノードの定義\n",
    "        {\"data\": {\"id\": \"A\", \"my_color\": \"gray\"}},\n",
    "        {\"data\": {\"id\": \"B\", \"my_color\": \"red\"}},\n",
    "        {\"data\": {\"id\": \"C\", \"my_color\": \"blue\"}},\n",
    "        # エッジの定義\n",
    "        {\"data\": {\"source\": \"A\", \"target\": \"B\", \"label\": \"A - B\"}},\n",
    "        {\"data\": {\"source\": \"B\", \"target\": \"C\", \"label\": \"B - C\"}},\n",
    "    ],\n",
    "    # (2) ノード配置方法の定義\n",
    "    # Cytoscape.jsで用意されているアルゴリズムを利用できる\n",
    "    layout={\"name\": \"grid\"},\n",
    "    # (3) スタイルの定義\n",
    "    stylesheet=[\n",
    "        # ノード全体に対するスタイル指定（グループセレクタ）\n",
    "        # 背景色 = ノードのdata辞書の\"my_color\"キーを使う\n",
    "        {\"selector\": \"node\", \"style\": {\"background-color\": \"data(my_color)\"}},\n",
    "        # ラベル = ノードのdata辞書の\"id\"キーを使う\n",
    "        {\"selector\": \"node\", \"style\": {\"content\": \"data(id)\"}},\n",
    "    ],\n",
    ")\n",
    "\n",
    "# Cytoscapeコンポーネントをレイアウトに渡す\n",
    "app.layout = html.Div([cyto_compo])\n",
    "\n",
    "app.run_server(mode=\"inline\")"
   ]
  }
 ],
 "metadata": {
  "hide_input": false,
  "kernelspec": {
   "display_name": "Python 3 (ipykernel)",
   "language": "python",
   "name": "python3"
  },
  "language_info": {
   "codemirror_mode": {
    "name": "ipython",
    "version": 3
   },
   "file_extension": ".py",
   "mimetype": "text/x-python",
   "name": "python",
   "nbconvert_exporter": "python",
   "pygments_lexer": "ipython3",
   "version": "3.9.0"
  },
  "toc": {
   "base_numbering": 1,
   "nav_menu": {},
   "number_sections": true,
   "sideBar": true,
   "skip_h1_title": false,
   "title_cell": "Table of Contents",
   "title_sidebar": "Contents",
   "toc_cell": false,
   "toc_position": {},
   "toc_section_display": true,
   "toc_window_display": false
  }
 },
 "nbformat": 4,
 "nbformat_minor": 5
}
